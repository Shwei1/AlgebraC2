{
 "cells": [
  {
   "cell_type": "markdown",
   "metadata": {},
   "source": [
    "# Домашня робота №3\n",
    "Будемо використовувати *Збірник задач з теорії ймовірностей та математичної статистики: навч. посібник / В.В. Голомозий, М.В. Карташов, К.В. Ральченко. – К.: Видавничо-поліграфічний центр «Київський університет», 2015. – 366 с.*\n",
    "Електронну версію збірника можна знайти [тут](http://probability.univ.kiev.ua/userfiles/kmv/gkr-problems.pdf)."
   ]
  },
  {
   "cell_type": "markdown",
   "metadata": {},
   "source": [
    "## 1 Задача 1.3.12\n",
    "Знайти ймовiрнiсть того, що серед трьох цифр, кожна з яких вибрана навмання, буде лише 1, 2, 3 рiзних.\n",
    "\n",
    "Обчисліть теоретичну (повним перебором) та еміричну (симулюванням $100000$ експериментів) імовірності."
   ]
  },
  {
   "cell_type": "code",
   "execution_count": 5,
   "metadata": {},
   "outputs": [
    {
     "name": "stdout",
     "output_type": "stream",
     "text": [
      "Theoretically:\n",
      "One unique digit: 0.01\n",
      "Two unique digits: 0.27\n",
      "Three unique digits: 0.72\n",
      "\n",
      "Empirically:\n",
      "One unique digit: 0.01021\n",
      "Two unique digits: 0.27115\n",
      "Three unique digits: 0.71864\n",
      "\n"
     ]
    }
   ],
   "source": [
    "import numpy as np\n",
    "\n",
    "def theoretical_triplets() -> (float, float, float):\n",
    "    c_one = 0\n",
    "    c_two = 0\n",
    "    c_three = 0\n",
    "    combinations = [(a, b, c) for a in range(10) for b in range(10) for c in range(10)]\n",
    "    total = len(combinations)\n",
    "    for combination in combinations:\n",
    "        if len(set(combination)) == 1:\n",
    "            c_one += 1\n",
    "        elif len(set(combination)) == 2:\n",
    "            c_two += 1\n",
    "        else:\n",
    "            c_three += 1\n",
    "    return (c_one/total, c_two/total, c_three/total)\n",
    "\n",
    "def empirical_triplets(n: int) -> (float, float, float):\n",
    "    c_one = 0\n",
    "    c_two = 0\n",
    "    c_three = 0\n",
    "    for _ in range(n):\n",
    "        specimen = tuple(np.random.randint(0, 10, size=3))\n",
    "        if len(set(specimen)) == 1:\n",
    "            c_one += 1\n",
    "        elif len(set(specimen)) == 2:\n",
    "            c_two += 1\n",
    "        else:\n",
    "            c_three += 1\n",
    "    return (c_one/n, c_two/n, c_three/n)\n",
    "        \n",
    "\n",
    "result = theoretical_triplets()\n",
    "print(\"Theoretically:\")\n",
    "print(f\"One unique digit: {result[0]}\\nTwo unique digits: {result[1]}\\nThree unique digits: {result[2]}\\n\")\n",
    "\n",
    "result = empirical_triplets(100000)\n",
    "print(\"Empirically:\")\n",
    "print(f\"One unique digit: {result[0]}\\nTwo unique digits: {result[1]}\\nThree unique digits: {result[2]}\\n\")\n",
    "\n",
    "        \n",
    "\n"
   ]
  },
  {
   "cell_type": "markdown",
   "metadata": {},
   "source": [
    "# 2 Задача 1.3.14\n",
    "З послiдовностi чисел $1, 2, . . . , n$ вибирають навмання $k$ рiзних чисел.\n",
    "Яка ймовiрнiсть того, що:\n",
    "1. кожне з вибраних чисел кратне даному числу $p$;\n",
    "2. кожне з вибраних чисел кратне хоча б одному з двох взаємно простих чисел $p$ i $q$;\n",
    "3. серед вибраних чисел є хоча б одне кратне $p$?\n",
    "\n",
    "Напишіть  відповідні функції для обрахунку теоретичної (повним перебором) та еміричної (симулюванням $100000$ експериментів) імовірностей в залежності від параметрів $n, k, p, q$.\n",
    "Виведіть результат для\n",
    "- $n = 25, k = 5, p = 3, q = 4$;\n",
    "- $n = 25, k = 10, p = 3, q = 4$."
   ]
  },
  {
   "cell_type": "code",
   "execution_count": 19,
   "metadata": {},
   "outputs": [
    {
     "name": "stdout",
     "output_type": "stream",
     "text": [
      "Case 1 theoretically:\n",
      "0.001054018445322793, 0.014906832298136646, 0.8835309617918313\n",
      "Case 1 empirically:\n",
      "0.00104, 0.01478, 0.88492\n",
      "Case 2 theoretically:\n",
      "0.0000000000, 0.0000201911, 0.9940503432494279\n",
      "Case 2 empirically:\n",
      "0.0000000000, 0.0000100000, 0.99402\n"
     ]
    }
   ],
   "source": [
    "import itertools as itr\n",
    "\n",
    "def theoretical(n, k, p, q) -> (float, float, float):\n",
    "    c_all_divide_p = 0\n",
    "    c_all_divide_p_or_q = 0\n",
    "    c_any_divide_p = 0\n",
    "    sequence = np.arange(1, n+1)\n",
    "    combinations = list(itr.combinations(sequence, k))\n",
    "    size = len(combinations)\n",
    "    for combination in combinations:\n",
    "        if all((x % p == 0) for x in combination):\n",
    "            c_all_divide_p += 1\n",
    "        if all((x % p == 0 or x % q == 0) for x in combination):\n",
    "            c_all_divide_p_or_q += 1\n",
    "        if any((x % p == 0) for x in combination):\n",
    "            c_any_divide_p += 1\n",
    "    return (c_all_divide_p / size, c_all_divide_p_or_q / size, c_any_divide_p / size)\n",
    "        \n",
    "\n",
    "def empirical(n, k, p, q, times) -> (float, float, float):\n",
    "    c_all_divide_p = 0\n",
    "    c_all_divide_p_or_q = 0\n",
    "    c_any_divide_p = 0\n",
    "    sequence = np.arange(1, n+1)\n",
    "    for _ in range(times):\n",
    "        choice = np.random.choice(sequence, k, replace = False)\n",
    "        if all((x % p == 0) for x in choice):\n",
    "            c_all_divide_p += 1\n",
    "        if all((x % p == 0 or x % q == 0) for x in choice):\n",
    "            c_all_divide_p_or_q += 1\n",
    "        if any((x % p == 0) for x in choice):\n",
    "            c_any_divide_p += 1\n",
    "    return (c_all_divide_p / times, c_all_divide_p_or_q / times, c_any_divide_p / times)\n",
    "\n",
    "result = theoretical(25, 5, 3, 4)\n",
    "print(\"Case 1 theoretically:\")\n",
    "print(f\"{result[0]}, {result[1]}, {result[2]}\")\n",
    "result = empirical(25, 5, 3, 4, 100000)\n",
    "print(\"Case 1 empirically:\")\n",
    "print(f\"{result[0]}, {result[1]}, {result[2]}\")\n",
    "result = theoretical(25, 10, 3, 4)\n",
    "print(\"Case 2 theoretically:\")\n",
    "print(f\"{result[0]:.10f}, {result[1]:.10f}, {result[2]}\")\n",
    "result = empirical(25, 10, 3, 4, 100000)\n",
    "print(\"Case 2 empirically:\")\n",
    "print(f\"{result[0]:.10f}, {result[1]:.10f}, {result[2]}\")\n"
   ]
  },
  {
   "cell_type": "markdown",
   "metadata": {},
   "source": [
    "# 3 Задача 1.4.6\n",
    "В коморi знаходяться $n$ пар черевикiв.\n",
    "З них випадковим чином вибираються $2k$ черевикiв.\n",
    "Яка ймовiрнiсть того, що серед вибраних черевикiв:\n",
    "1. вiдсутнi парнi;\n",
    "2. є рiвно одна комплектна пара;\n",
    "3. є двi комплектнi пари?\n",
    "\n",
    "Напишіть  відповідні функції для обрахунку теоретичної (повним перебором) та еміричної (симулюванням $100000$ експериментів) імовірностей в залежності від параметрів $n, k$.\n",
    "Виведіть результат для\n",
    "- $n = 8, k = 4$;\n",
    "- $n = 13, k = 5$."
   ]
  },
  {
   "cell_type": "code",
   "execution_count": 44,
   "metadata": {},
   "outputs": [
    {
     "name": "stdout",
     "output_type": "stream",
     "text": [
      "Case 1 theoretically:\n",
      "0 pairs: 0.01989121989121989, 1 pair: 0.2784770784770785, 2 pairs: 0.5221445221445221.\n",
      "Case 1 empirically:\n",
      "0 pairs: 0.02023, 1 pair: 0.27884, 2 pairs: 0.52062.\n",
      "Case 2 theoretically:\n",
      "0 pairs: 0.05513528065688518, 1 pair: 0.31013595369497915, 2 pairs: 0.4341903351729708.\n",
      "Case 2 empirically:\n",
      "0 pairs: 0.0551, 1 pair: 0.30962, 2 pairs: 0.43426.\n"
     ]
    }
   ],
   "source": [
    "def theoretical_boots(n, k) -> (float, float, float):\n",
    "    c_no_pairs = 0\n",
    "    c_one_pair = 0\n",
    "    c_two_pairs = 0\n",
    "    boots = np.array([(i, j) for i in range(n) for j in range(2)])\n",
    "    all_choices = list(itr.combinations(range(len(boots)), 2 * k))\n",
    "    num_choices = len(all_choices)\n",
    "    for choice in all_choices:\n",
    "        current = boots[list(choice)]\n",
    "        unique_arr, counts = np.unique(current[:, 0], return_counts = True)\n",
    "        c_complete_pairs = np.sum(counts == 2)\n",
    "        if c_complete_pairs == 0:\n",
    "            c_no_pairs += 1\n",
    "        elif c_complete_pairs == 1:\n",
    "            c_one_pair += 1\n",
    "        elif c_complete_pairs == 2:\n",
    "            c_two_pairs += 1\n",
    "\n",
    "    return (c_no_pairs/num_choices, c_one_pair/num_choices, c_two_pairs/num_choices)\n",
    "\n",
    "\n",
    "def empirical_boots(n, k, times) -> (float, float, float):\n",
    "    c_no_pairs = 0\n",
    "    c_one_pair = 0\n",
    "    c_two_pairs = 0\n",
    "    boots = np.array([(i, j) for i in range(n) for j in range(2)])\n",
    "    for _ in range(times):\n",
    "        indices = np.random.choice(len(boots), 2*k, replace=False)\n",
    "        choice = boots[list(indices)]\n",
    "        unique_arr, counts = np.unique(choice[:, 0], return_counts = True)\n",
    "        c_complete_pairs = np.sum(counts == 2)\n",
    "        if c_complete_pairs == 0:\n",
    "            c_no_pairs += 1\n",
    "        elif c_complete_pairs == 1:\n",
    "            c_one_pair += 1\n",
    "        elif c_complete_pairs == 2:\n",
    "            c_two_pairs += 1\n",
    "\n",
    "    return (c_no_pairs/times, c_one_pair/times, c_two_pairs/times)\n",
    "        \n",
    "                       \n",
    "    \n",
    "    \n",
    "result = theoretical_boots(8, 4)\n",
    "print(\"Case 1 theoretically:\")\n",
    "print(f\"0 pairs: {result[0]}, 1 pair: {result[1]}, 2 pairs: {result[2]}.\")\n",
    "result = empirical_boots(8, 4, 100000)\n",
    "print(\"Case 1 empirically:\")\n",
    "print(f\"0 pairs: {result[0]}, 1 pair: {result[1]}, 2 pairs: {result[2]}.\")\n",
    "result = theoretical_boots(13, 5)\n",
    "print(\"Case 2 theoretically:\")\n",
    "print(f\"0 pairs: {result[0]}, 1 pair: {result[1]}, 2 pairs: {result[2]}.\")\n",
    "result = empirical_boots(13, 5, 100000)\n",
    "print(\"Case 2 empirically:\")\n",
    "print(f\"0 pairs: {result[0]}, 1 pair: {result[1]}, 2 pairs: {result[2]}.\")\n"
   ]
  },
  {
   "cell_type": "markdown",
   "metadata": {},
   "source": [
    "# 4 Задача 1.2.15\n",
    "Нехай $\\Omega = {1, 2, \\ldots, 2n}$.\n",
    "Всiм числам приписанi ймовiрностi, пропорцiйнi логарифмам цих чисел.\n",
    "Знайти цi ймовiрностi.\n",
    "Знайти ймовiрнiсть того, що в результатi експерименту з’явиться:\n",
    "1. парне число;\n",
    "2. непарне число.\n",
    "\n",
    "Напишіть функцію для обрахунку еміричної (симулюванням $100000$ експериментів) імовірності в залежності від параметра $n$.\n",
    "Виведіть результат для\n",
    "- $n = 10$;\n",
    "- $n = 25$."
   ]
  },
  {
   "cell_type": "code",
   "execution_count": 29,
   "metadata": {},
   "outputs": [
    {
     "name": "stdout",
     "output_type": "stream",
     "text": [
      "Probabilities: [0.0, 0.01637267243297415, 0.02595007184285505, 0.0327453448659483, 0.038016168110510506, 0.042322744275829195, 0.04596390254194683, 0.04911801729892245, 0.0519001436857101, 0.05438884054348467, 0.05664014069622203, 0.05869541670880335, 0.0605860873630913, 0.06233657497492098, 0.06396623995336556, 0.0654906897318966, 0.06692269018174564, 0.06827281611868424, 0.06954992569663022, 0.0707615129764588]\n",
      "For case 1:\n",
      "Even: 0.51886\n",
      "Odd: 0.48114\n",
      "Probabilities: [0.0, 0.004668356716228672, 0.007399170335212202, 0.009336713432457344, 0.010839588616367463, 0.012067527051440874, 0.013105734205225237, 0.014005070148686016, 0.014798340670424404, 0.015507945332596137, 0.016149860831199254, 0.016735883767669546, 0.0172749726111833, 0.01777409092145391, 0.018238758951579667, 0.01867342686491469, 0.019081734607286155, 0.019466697386653072, 0.019830840937436926, 0.02017630204882481, 0.02050490454043744, 0.020818217547427926, 0.021117600838835265, 0.021404240483898218, 0.021679177232734926, 0.021943329327411977, 0.022197511005636605, 0.02244244763768258, 0.02267878820591505, 0.02290711566780834, 0.023127955619109877, 0.02334178358114336, 0.023549031166411456, 0.023750091323514827, 0.023945322821592698, 0.024135054102881748, 0.024319586607313967, 0.024499197653665598, 0.024674142946395503, 0.02484465876505348, 0.02501096388330322, 0.02517326125666611, 0.02533173951164847, 0.025486574263656598, 0.025637929286791865, 0.025785957555063937, 0.025930802171618205, 0.02607259720012689, 0.026211468410450474, 0.026347533948963598]\n",
      "For case 2:\n",
      "Even: 0.509\n",
      "Odd: 0.491\n"
     ]
    }
   ],
   "source": [
    "from math import log\n",
    "\n",
    "def empirical_chances(n, times) -> (float, float):\n",
    "    c_even = 0\n",
    "    values = np.arange(1, 2*n + 1)\n",
    "    weights = np.log(values)\n",
    "    probabilities = weights / weights.sum()\n",
    "    print(f\"Probabilities: {list(probabilities)}\")\n",
    "    for _ in range(times):\n",
    "        choice = np.random.choice(values, p = probabilities, size=1)[0]\n",
    "        if choice % 2 == 0:\n",
    "            c_even += 1\n",
    "    return (c_even / times, 1 - c_even / times)\n",
    "\n",
    "result = empirical_chances(10, 100000)\n",
    "print(\"For case 1:\")\n",
    "print(f\"Even: {result[0]}\\nOdd: {result[1]}\")\n",
    "result = empirical_chances(25, 100000)\n",
    "print(\"For case 2:\")\n",
    "print(f\"Even: {result[0]}\\nOdd: {result[1]}\")\n",
    "\n",
    "    \n",
    "    \n"
   ]
  },
  {
   "cell_type": "code",
   "execution_count": null,
   "metadata": {},
   "outputs": [],
   "source": []
  }
 ],
 "metadata": {
  "kernelspec": {
   "display_name": "Python 3 (ipykernel)",
   "language": "python",
   "name": "python3"
  },
  "language_info": {
   "codemirror_mode": {
    "name": "ipython",
    "version": 3
   },
   "file_extension": ".py",
   "mimetype": "text/x-python",
   "name": "python",
   "nbconvert_exporter": "python",
   "pygments_lexer": "ipython3",
   "version": "3.10.2"
  }
 },
 "nbformat": 4,
 "nbformat_minor": 4
}
