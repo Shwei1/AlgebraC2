{
 "cells": [
  {
   "cell_type": "markdown",
   "metadata": {
    "id": "q974EZ657M75"
   },
   "source": [
    "# Домашня робота №5"
   ]
  },
  {
   "cell_type": "markdown",
   "metadata": {
    "id": "pLXmTQFy7M78"
   },
   "source": [
    "# Математичне сподівання та дисперсія"
   ]
  },
  {
   "cell_type": "markdown",
   "metadata": {
    "id": "_8gs3J3S7M79"
   },
   "source": [
    "## 1 Порівняння"
   ]
  },
  {
   "cell_type": "markdown",
   "metadata": {
    "id": "eNxE8ht07M7_"
   },
   "source": [
    "1. Реалізуйте функцію для підрахунку математичного сподівання випадкової величини $\\xi$, заданої в класі **scipy.stats**, усіма можливими способами:\n",
    "   - за допомогою методу **mean**;\n",
    "   - за допомогою методу **expect**;\n",
    "   - за допомогою методу **stats**.\n",
    "\n",
    "2. Реалізуйте функцію для підрахунку дисперсії випадкової величини $\\xi$, заданої в класі **scipy.stats**, усіма можливими способами:\n",
    "   - за допомогою методу **var**;\n",
    "   - за допомогою методу **expect** та формули для дисперсії\n",
    "$\\mathsf{D}(\\xi) = \\mathsf{E} \\left[ \\left( \\xi - \\mathsf{E}[\\xi] \\right)^2 \\right]$;\n",
    "   - за допомогою методу **expect** та формули для дисперсії\n",
    "$\\mathsf{D}(\\xi) = \\mathsf{E}[\\xi^2] - \\left( \\mathsf{E}[\\xi] \\right)^2$;\n",
    "   - за допомогою методу **stats**.\n",
    "\n",
    "3. Порахуйте математичне сподівання та дисперсію, використовуючи функції з пунктів **1., 2.**, і порівняйте (виведіть різницю) їх із теоретичними значеннями, використовуючи формули з лекцій, для таких випадкових величин(оберіть 2 на вибір):\n",
    "   - $\\xi \\sim Binom(10, 0.4)$ (біноміальний розподіл);\n",
    "   - $\\xi \\sim Geom(0.5)$ (геометричний розподіл);\n",
    "   - $\\xi \\sim Pois(0.6)$ (розподіл Пуассона);\n",
    "   - $\\xi \\sim NBinom(5, 0.4)$ (від'ємний біноміальний розподіл);\n",
    "   - $\\xi \\sim HGeom(20, 7, 12)$ (гіпергеометричний розподіл);\n",
    "   - $\\xi \\sim Unif(0, 1)$ (рівномірний розподіл);\n",
    "   - $\\xi \\sim Exp(0.5)$ (експоненційний (показниковий) розподіл);\n",
    "   - $\\xi \\sim N(0, 1)$ (нормальний розподіл);\n",
    "   - $\\xi \\sim \\Gamma(2)$ (гамма розподіл);\n",
    "   - $\\xi \\sim LogNorm(0, 1)$ (логнормальний розподіл);\n",
    "   - $\\xi \\sim B(2, 1.1)$ (бета розподіл)."
   ]
  },
  {
   "cell_type": "code",
   "execution_count": 13,
   "metadata": {
    "id": "abNr1TcH7M8A"
   },
   "outputs": [
    {
     "name": "stdout",
     "output_type": "stream",
     "text": [
      "Difference between E_mean and the real expectation for beta: 0.0\n",
      "Difference between E_expect and the real expectation for beta: 0.0\n",
      "Difference between E_stats and the real expectation for beta: 0.0\n",
      "Difference between D_var and the real variance for beta: 0.0\n",
      "Difference between D_expect and the real variance for beta: 2.86090595658095e-14\n",
      "Difference between D_expect_2 and the real variance for beta: 6.938893903907228e-17\n",
      "Difference between D_stats and the real variance for beta: 0.0\n",
      "----------------------------------------------------------------------------------------------------\n",
      "Difference between E_mean and the real expectation for uniform: 0.0\n",
      "Difference between E_expect and the real expectation for uniform: 0.0\n",
      "Difference between E_stats and the real expectation for uniform: 0.0\n",
      "Difference between D_var and the real variance for uniform: 0.0\n",
      "Difference between D_expect and the real variance for uniform: 0.0\n",
      "Difference between D_expect_2 and the real variance for uniform: 1.3877787807814457e-17\n",
      "Difference between D_stats and the real variance for uniform: 0.0\n"
     ]
    }
   ],
   "source": [
    "def E_mean(distribution):\n",
    "    return distribution.mean()\n",
    "\n",
    "def E_expect(distribution, func=None, **kwargs):\n",
    "    return distribution.expect(func=func, **kwargs)\n",
    "\n",
    "def E_stats(distribution):\n",
    "    e = distribution.stats(moments='m')\n",
    "    return e\n",
    "\n",
    "def D_var(distribution):\n",
    "    return distribution.var()\n",
    "\n",
    "def D_expect(distribution, **kwargs):\n",
    "    mean = distribution.expect(lambda x: x, **kwargs)\n",
    "    return distribution.expect(lambda x: (x - mean) ** 2, **kwargs)\n",
    "\n",
    "def D_expect_2(distribution, **kwargs):\n",
    "    return distribution.expect(lambda x: x**2, **kwargs) - distribution.expect(lambda x: x, **kwargs) ** 2\n",
    "\n",
    "def D_stats(distribution):\n",
    "    v = distribution.stats(moments='v')\n",
    "    return v\n",
    "\n",
    "from scipy.stats import beta\n",
    "from scipy.stats import uniform\n",
    "\n",
    "α = 2\n",
    "β = 1.1\n",
    "\n",
    "dist = beta(a=α, b=β)\n",
    "dist2 = uniform(0, 1)\n",
    "\n",
    "E_funcs = [E_mean, E_expect, E_stats]\n",
    "E1 = α/(α + β)\n",
    "# E2 = \n",
    "D_funcs = [D_var, D_expect, D_expect_2, D_stats]\n",
    "D1 = (α * β)/((α+β)**2 * (α+β+1))\n",
    "# D2 = \n",
    "\n",
    "for f1 in E_funcs:\n",
    "    print(f\"Difference between {f1.__name__} and the real expectation for beta: {abs(E1-f1(dist))}\")\n",
    "for f2 in D_funcs:\n",
    "    print(f\"Difference between {f2.__name__} and the real variance for beta: {abs(D1-f2(dist))}\")\n",
    "print(\"-\" * 100)\n",
    "\n",
    "for f1 in E_funcs:\n",
    "    print(f\"Difference between {f1.__name__} and the real expectation for uniform: {abs(1/2-f1(dist2))}\")\n",
    "for f2 in D_funcs:\n",
    "    print(f\"Difference between {f2.__name__} and the real variance for uniform: {abs(1/12-f2(dist2))}\")"
   ]
  },
  {
   "cell_type": "markdown",
   "metadata": {
    "id": "m_VxST4Z7M8P"
   },
   "source": [
    "## 2 Унікальні цифри"
   ]
  },
  {
   "cell_type": "markdown",
   "metadata": {
    "id": "UXxueiRo7M8Q"
   },
   "source": [
    "Нехай випадковим чином вибирають послідовно $n$ цифр (цифри можуть повторюватися, вибірка з поверненням).\n",
    "Нехай тоді випадкова величина $\\xi$ - це кількість унікальних цифр в отриманому наборі.\n",
    "\n",
    "Напишіть функцію для обрахунку математичного сподівання та дисперсії випадкової величини $\\xi$ в залежності від кількості $n$ цифр у наборі методом повного перебору.\n",
    "Виведіть результат для $n = 1, 2, 3, 4, 5, 6, 7.$"
   ]
  },
  {
   "cell_type": "code",
   "execution_count": 20,
   "metadata": {
    "id": "m922JuJk7M8Q"
   },
   "outputs": [
    {
     "name": "stdout",
     "output_type": "stream",
     "text": [
      "(1.0, 0.0)\n",
      "(1.9, 0.0900000000000003)\n",
      "(2.71, 0.2259000000000002)\n",
      "(3.439, 0.37827899999999914)\n",
      "(4.0951, 0.5282559899999981)\n",
      "(4.68559, 0.6644163518999981)\n",
      "(5.217031, 0.7805445450389961)\n"
     ]
    }
   ],
   "source": [
    "import numpy as np\n",
    "from itertools import product\n",
    "\n",
    "def calc_stats(n: int) -> (float, float):\n",
    "    digits = [i for i in range(10)]\n",
    "    vals = []\n",
    "\n",
    "    for ex in product(digits, repeat = n):\n",
    "        vals.append(len(np.unique(ex)))\n",
    "\n",
    "    E = np.mean(vals)\n",
    "    E2 = np.mean(np.array(vals) ** 2)\n",
    "    D = E2 - E ** 2\n",
    "    return (E, D)\n",
    "\n",
    "for i in range(1, 8):\n",
    "    print(calc_stats(i))"
   ]
  },
  {
   "cell_type": "markdown",
   "metadata": {
    "id": "yNYille67M8V"
   },
   "source": [
    "## 3 Парадокс днів народження"
   ]
  },
  {
   "cell_type": "markdown",
   "metadata": {
    "id": "DRtqj9Lt7M8W"
   },
   "source": [
    "Нехай маємо $n$ людей.\n",
    "Їх дні народження припадають на один з 12 місяців.\n",
    "Нехай тоді випадкова величина $\\xi$ - це кількість співпадінь місяців народжень серед цих $n$ людей.\n",
    "\n",
    "Напишіть функцію для обрахунку математичного сподівання та дисперсії випадкової величини $\\xi$ в залежності від кількості $n$ людей методом повного перебору.\n",
    "Виведіть результат для $n = 1, 2, 3, 4, 5, 6.$\n",
    "\n",
    "Для якого $n$ виконується $\\mathsf{E}\\left[ \\xi \\right] \\geq 1$?\n",
    "\n",
    "**Зауваження.** Кількість співпадінь означає кількість однакових пар. Наприклад,\n",
    "- у наборі $\\{ 1, 1, 2, 3 \\}$ є одна пара;\n",
    "- у наборі $\\{ 1, 1, 1, 3 \\}$ є три пари;\n",
    "- у наборі $\\{ 1, 1, 1, 1 \\}$ є шість пар."
   ]
  },
  {
   "cell_type": "code",
   "execution_count": 22,
   "metadata": {
    "id": "RZRYIjCX7M8W"
   },
   "outputs": [
    {
     "name": "stdout",
     "output_type": "stream",
     "text": [
      "(0.0, 0.0)\n",
      "(0.08333333333333333, 0.07638888888888888)\n",
      "(0.25, 0.22916666666666669)\n",
      "(0.5, 0.45833333333333337)\n",
      "(0.8333333333333334, 0.7638888888888887)\n",
      "(1.25, 1.1458333333333335)\n"
     ]
    }
   ],
   "source": [
    "from collections import Counter\n",
    "\n",
    "def coinciding_birth_months(n: int) -> (float, float):\n",
    "    dates = np.arange(12)\n",
    "    vals = []\n",
    "    for ex in product(dates, repeat=n):\n",
    "        counts = Counter(ex)\n",
    "        pair_count = sum(k*(k-1)/2 for k in counts.values() if k > 1)\n",
    "        vals.append(pair_count)\n",
    "\n",
    "    E = np.mean(vals)\n",
    "    E2 = np.mean(np.array(vals) ** 2)\n",
    "    D = E2 - E ** 2\n",
    "\n",
    "    return (E, D)\n",
    "\n",
    "for i in range(1, 7):\n",
    "    print(coinciding_birth_months(i)) # Для n = 7 E[ξ] = 1.25 >= 1"
   ]
  },
  {
   "cell_type": "code",
   "execution_count": null,
   "metadata": {},
   "outputs": [],
   "source": []
  }
 ],
 "metadata": {
  "colab": {
   "provenance": []
  },
  "kernelspec": {
   "display_name": "Python 3 (ipykernel)",
   "language": "python",
   "name": "python3"
  },
  "language_info": {
   "codemirror_mode": {
    "name": "ipython",
    "version": 3
   },
   "file_extension": ".py",
   "mimetype": "text/x-python",
   "name": "python",
   "nbconvert_exporter": "python",
   "pygments_lexer": "ipython3",
   "version": "3.10.2"
  }
 },
 "nbformat": 4,
 "nbformat_minor": 4
}
