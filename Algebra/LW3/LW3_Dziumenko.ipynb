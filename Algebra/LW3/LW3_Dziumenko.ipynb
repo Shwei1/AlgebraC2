{
 "cells": [
  {
   "cell_type": "markdown",
   "id": "088d0c68-43d4-421c-bdda-91b406d863ba",
   "metadata": {},
   "source": [
    "# Лабораторна робота 3. Групи, порядок елемента в групі\n",
    "\n",
    "_Примітка_: наведений код є лише одним з можливих шаблонів виконання. Можете писати по-своєму, але розділяйте свій код на функції, щоб їх можна було простіше перевіряти.\n",
    "\n",
    "## Завдання 1. \n",
    "\n",
    "__Задайте групи $D_{10}$, $Z_{16}$, $A_5$, $SL(2, \\mathbb{Z}_3)$*. Для кожної з них виведіть таблицю Келі, знайдіть порядок групи, перевірте чи група абелева. Перевірте чи будуть ізоморфними групи $SL(2, Z_3)$ та $D_3$.__\n",
    "\n",
    "*: група матриць 2х2 з визначником 1 над полем $\\mathbb{Z}_3$"
   ]
  },
  {
   "cell_type": "code",
   "execution_count": 3,
   "id": "8411013e-cb5f-4276-9113-e0bf1a966b4f",
   "metadata": {},
   "outputs": [],
   "source": [
    "from sage.matrix.operation_table import OperationTable\n",
    "\n",
    "Z16 = Integers(16)\n",
    "D10 = DihedralGroup(10)\n",
    "A5 = AlternatingGroup(5)\n",
    "SL2Z3 = GL(2, Integers(3))\n",
    "D3 = DihedralGroup(3)\n",
    "\n",
    "\n",
    "with open(\"output_3_1\", \"w\") as f:\n",
    "    print(\"Cayley table for Z16:\\n\",OperationTable(Z16, operator.add, names = 'digits'), file=f)\n",
    "    print(\"Group order is\", Z16.cardinality(), '\\n', file=f)\n",
    "    print(\"Is the group Abelian: \" \"True\\n\", file=f) # I could not \n",
    "                                             # initialise Z16 with CyclicGroup(), and Integers() hasn't got a method for checking commutativity.\n",
    "    \n",
    "    print(OperationTable(D10, operator.mul, names = 'letters'), file=f)\n",
    "    print(\"Group order is\", D10.cardinality(), '\\n', file=f)\n",
    "    print(\"Is the group Abelian: \", D10.is_abelian(), '\\n', file=f)\n",
    "    \n",
    "    print(OperationTable(A5, operator.mul, names = 'elements'), file=f)\n",
    "    print(\"Group order is\", A5.cardinality(), '\\n', file=f)\n",
    "    print(\"Is the group Abelian: \", A5.is_abelian(), '\\n', file=f)\n",
    "    \n",
    "    print(OperationTable(SL2Z3, operator.mul, names='digits'), file=f) \n",
    "    print(\"Group order is\", SL2Z3.cardinality(), '\\n', file=f)\n",
    "    print(\"Is the group Abelian: \", SL2Z3.is_abelian(), '\\n', file=f)\n",
    "\n",
    "    print(\"Is SL_2(Z_3) isomorphic to D3: \", SL2Z3.is_isomorphic(D3), \"\\n\", file=f)\n"
   ]
  },
  {
   "cell_type": "markdown",
   "id": "101bece3-af83-4515-ba1a-e2d825b15a8d",
   "metadata": {},
   "source": [
    "## Завдання 2. \n",
    "\n",
    "__Знайдіть к-ть елементів кожного можливого порядку в групах $S_{100}$ та $A_{100}$.__\n",
    "\n",
    "-----\n",
    "___Зауваження___: вивід буде великий, збережіть його в окремий текстовий файл\n",
    "\n",
    "___Зауваження 2___: оцініть спершу к-ть елементів в групі, а потім ще раз подумайте чи варто тут писати повний перебір"
   ]
  },
  {
   "cell_type": "code",
   "execution_count": null,
   "id": "c5866f5d-ba29-40b9-af38-a4e93198f68d",
   "metadata": {},
   "outputs": [
    {
     "name": "stdin",
     "output_type": "stream",
     "text": [
      "Enter the number:  100\n"
     ]
    }
   ],
   "source": [
    "# S100 = SymmetricGroup(100)\n",
    "# S100.cardinality()\n",
    "\n",
    "from math import lcm\n",
    "import time\n",
    "\n",
    "start_time = time.time()\n",
    "\n",
    "n = int(input(\"Enter the number: \"))\n",
    "\n",
    "def partitions(n, l=None, current=None):\n",
    "    if current is None:\n",
    "        current = []\n",
    "    if l is None:\n",
    "        l = n\n",
    "\n",
    "    if n == 0:\n",
    "        yield current\n",
    "\n",
    "    for i in range(1, min(l, n) + 1):\n",
    "        yield from partitions(n - i, i, current + [i])\n",
    "\n",
    "\n",
    "# def gcd(a, b):\n",
    "#     if b == 0:\n",
    "#         return a\n",
    "#     return gcd(b, a % b)\n",
    "\n",
    "\n",
    "# def lcm(a, b):\n",
    "#     return (a*b) // gcd(a, b)\n",
    "\n",
    "partitions_list = list(partitions(n))\n",
    "\n",
    "def entrances(lst): \n",
    "    dt = {}\n",
    "    for i in range(len(lst)):\n",
    "        if lst[i] not in dt:\n",
    "            dt[lst[i]] = 1\n",
    "        else:\n",
    "            dt[lst[i]] += 1\n",
    "    return dt\n",
    "\n",
    "\n",
    "# print(entrances(partitions_list[0]))\n",
    "\n",
    "\n",
    "def ordnung_counter(lst, n):\n",
    "    part_dict = entrances(lst)\n",
    "    c = factorial(n)\n",
    "    for key, value in part_dict.items():\n",
    "        c /= (key**value)*factorial(value) \n",
    "    return c\n",
    "\n",
    "# print(lcm(*partition[0]))\n",
    "\n",
    "ord_dict = {}\n",
    "\n",
    "for partition in partitions_list:\n",
    "    k = lcm(*partition)\n",
    "    if k not in ord_dict:\n",
    "        ord_dict[k] = ordnung_counter(partition, n)\n",
    "    else:\n",
    "        ord_dict[k] += ordnung_counter(partition, n)\n",
    "\n",
    "\n",
    "# for key, value in ord_dict.items():\n",
    "#     print(f\"There are {value} elements of order {key}\")\n",
    "\n",
    "ord_dict_alternating = {order: count // 2 for order, count in ord_dict.items() if order % 2 == 0}\n",
    "end_time = time.time()\n",
    "\n",
    "\n",
    "end_time = time.time()\n",
    "\n",
    "with open('output_3_2_part1', 'w') as f:\n",
    "    for key, value in ord_dict.items():\n",
    "        f.write(f\"There are {value} elements of order {key}\\n\")\n",
    "    f.write(f\"Execution time: {(end_time - start_time) / 60} min\")\n",
    "    \n",
    "with open('output_3_2_part2', 'w') as f:\n",
    "    for key, value in ord_dict_alternating.items():\n",
    "        f.write(f\"There are {value} elements of order {key}\\n\")\n",
    "    f.write(f\"Execution time: {(end_time - start_time) / 60} min\")\n",
    "\n",
    "\n",
    "\n",
    "# print(f\"Execution time: {(end_time - start_time) / 60} min\")\n",
    "\n",
    "\n",
    "\n",
    "\n",
    "\n",
    "\n",
    "\n",
    "\n",
    "\n",
    "\n",
    "\n",
    "\n"
   ]
  },
  {
   "cell_type": "markdown",
   "id": "aa1ddcec-2a21-46d5-80be-ff32c79d7de8",
   "metadata": {},
   "source": [
    "## Завдання 3. \n",
    "___Для заданих натуральних $n, k$ ($1 <= n \\le 1 000 000, 1 \\le k \\le n!$) визначте чи існує в групі $S_n$ елемент порядку $k$.___\n",
    "\n",
    "----------\n",
    "\n",
    "___Зауваження:___ зверніть увагу на межі, в яких задано $n, k$. "
   ]
  },
  {
   "cell_type": "code",
   "execution_count": 2,
   "id": "4a04b16b-4a63-4a64-902b-f07148aad1f7",
   "metadata": {},
   "outputs": [
    {
     "name": "stdout",
     "output_type": "stream",
     "text": [
      "The code is actually running and your sage kernel has not crashed\n"
     ]
    },
    {
     "data": {
      "text/plain": [
       "False"
      ]
     },
     "execution_count": 2,
     "metadata": {},
     "output_type": "execute_result"
    }
   ],
   "source": [
    "from itertools import combinations\n",
    "from math import lcm, factorial\n",
    "\n",
    "def is_k_in_Sn(n, k):\n",
    "    lst_el = list(range(1, n+1))\n",
    "    l = lcm(*lst_el)\n",
    "    if l % k != 0 or k > l:\n",
    "        return False\n",
    "    for i in range(1, n+1):\n",
    "        for combination in combinations(lst_el, i):\n",
    "            if lcm(*combination) == k:\n",
    "                return True\n",
    "    return False\n",
    "\n",
    "\n",
    "# n = int(input())\n",
    "n = 100\n",
    "k = factorial(100)\n",
    "\n",
    "print(\"The code is actually running and your sage kernel has not crashed\")\n",
    "\n",
    "is_k_in_Sn(n, k)\n",
    "        \n",
    "\n",
    "\n",
    "\n",
    "\n",
    "\n",
    "\n",
    "\n",
    "\n",
    "\n",
    "\n"
   ]
  },
  {
   "cell_type": "code",
   "execution_count": 3,
   "id": "b49a87c4-48c7-403b-98d0-deb83ef9912f",
   "metadata": {},
   "outputs": [
    {
     "data": {
      "text/plain": [
       "100"
      ]
     },
     "execution_count": 3,
     "metadata": {},
     "output_type": "execute_result"
    }
   ],
   "source": [
    "100"
   ]
  },
  {
   "cell_type": "code",
   "execution_count": null,
   "id": "62ee0a93-80ad-4868-83f4-a0c6ef6cb30f",
   "metadata": {},
   "outputs": [],
   "source": []
  }
 ],
 "metadata": {
  "kernelspec": {
   "display_name": "SageMath 10.4",
   "language": "sage",
   "name": "sagemath-10.4"
  },
  "language_info": {
   "codemirror_mode": {
    "name": "ipython",
    "version": 3
   },
   "file_extension": ".py",
   "mimetype": "text/x-python",
   "name": "python",
   "nbconvert_exporter": "python",
   "pygments_lexer": "ipython3",
   "version": "3.12.4"
  }
 },
 "nbformat": 4,
 "nbformat_minor": 5
}
