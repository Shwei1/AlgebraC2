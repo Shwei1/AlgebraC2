{
 "cells": [
  {
   "cell_type": "code",
   "execution_count": 58,
   "id": "19cfeaa5-86cf-4baf-a1f0-85998bce4b95",
   "metadata": {},
   "outputs": [],
   "source": [
    "G = SymmetricGroup(3)\n",
    "a = G('(1, 2, 3)')\n",
    "H = G.subgroup([a])\n",
    "rc = G.cosets(H, side='right'); rc"
   ]
  },
  {
   "cell_type": "code",
   "execution_count": 22,
   "id": "673614d7-ac5b-4317-b6d0-667f07a57099",
   "metadata": {},
   "outputs": [
    {
     "data": {
      "text/plain": [
       "[[(), (1,2,3), (1,3,2)], [(2,3), (1,2), (1,3)]]"
      ]
     },
     "execution_count": 22,
     "metadata": {},
     "output_type": "execute_result"
    }
   ],
   "source": [
    "lc = G.cosets(H, side='left'); sorted(lc)"
   ]
  },
  {
   "cell_type": "code",
   "execution_count": 23,
   "id": "c1c386c0-06ed-47b1-a832-092c6aba76fa",
   "metadata": {},
   "outputs": [],
   "source": [
    "lcn = sorted([sorted(coset) for coset in lc])\n",
    "rcn = sorted([sorted(coset) for coset in rc])"
   ]
  },
  {
   "cell_type": "code",
   "execution_count": 24,
   "id": "61424a9a-e2f4-44f5-bc3a-893f42e8782b",
   "metadata": {},
   "outputs": [
    {
     "data": {
      "text/plain": [
       "[[(), (1,2,3), (1,3,2)], [(2,3), (1,2), (1,3)]]"
      ]
     },
     "execution_count": 24,
     "metadata": {},
     "output_type": "execute_result"
    }
   ],
   "source": [
    "lcn"
   ]
  },
  {
   "cell_type": "code",
   "execution_count": 25,
   "id": "2f385511-5193-4462-b26d-5c6e75d9e50d",
   "metadata": {},
   "outputs": [
    {
     "data": {
      "text/plain": [
       "[[(), (1,2,3), (1,3,2)], [(2,3), (1,2), (1,3)]]"
      ]
     },
     "execution_count": 25,
     "metadata": {},
     "output_type": "execute_result"
    }
   ],
   "source": [
    "rcn"
   ]
  },
  {
   "cell_type": "code",
   "execution_count": 26,
   "id": "f21d170b-de92-4f43-99f6-63b1d7ca72a2",
   "metadata": {},
   "outputs": [
    {
     "data": {
      "text/plain": [
       "True"
      ]
     },
     "execution_count": 26,
     "metadata": {},
     "output_type": "execute_result"
    }
   ],
   "source": [
    "lcn == rcn"
   ]
  },
  {
   "cell_type": "code",
   "execution_count": 27,
   "id": "b2cd28e9-bc9a-4335-9f71-22479783bb29",
   "metadata": {},
   "outputs": [
    {
     "data": {
      "text/plain": [
       "True"
      ]
     },
     "execution_count": 27,
     "metadata": {},
     "output_type": "execute_result"
    }
   ],
   "source": [
    "H.is_normal(G)"
   ]
  },
  {
   "cell_type": "code",
   "execution_count": 33,
   "id": "2d71e874-8874-43f7-b33a-40945e3cc2e6",
   "metadata": {},
   "outputs": [
    {
     "data": {
      "text/plain": [
       "False"
      ]
     },
     "execution_count": 33,
     "metadata": {},
     "output_type": "execute_result"
    }
   ],
   "source": [
    "S100 = SymmetricGroup(100)\n",
    "H = S100.subgroup([\"(1, 2)\"])\n",
    "H.is_normal(S100)"
   ]
  },
  {
   "cell_type": "code",
   "execution_count": 34,
   "id": "5872da36-0e66-4561-b9f9-2ea0f3eb294f",
   "metadata": {},
   "outputs": [
    {
     "data": {
      "text/plain": [
       "True"
      ]
     },
     "execution_count": 34,
     "metadata": {},
     "output_type": "execute_result"
    }
   ],
   "source": [
    "A4 = AlternatingGroup(4)\n",
    "s1 = A4('(1,2)(3,4)')\n",
    "s2 = A4('(1,3)(2, 4)')\n",
    "s3 = A4('(1,4)(2,3)')\n",
    "K4 = A4.subgroup([s1, s2, s3])\n",
    "K4.is_isomorphic(KleinFourGroup())"
   ]
  },
  {
   "cell_type": "code",
   "execution_count": 37,
   "id": "61821cc7-9310-492b-a0bf-6e3aae032e0e",
   "metadata": {},
   "outputs": [
    {
     "name": "stdout",
     "output_type": "stream",
     "text": [
      "()\n",
      "(1,2,3)\n",
      "(1,3,2)\n"
     ]
    }
   ],
   "source": [
    "FAKTOR = A4.quotient(K4)\n",
    "for i in FAKTOR:\n",
    "    print(i)"
   ]
  },
  {
   "cell_type": "code",
   "execution_count": 38,
   "id": "758ce650-74d3-4a37-afd6-0cb98889306b",
   "metadata": {},
   "outputs": [
    {
     "data": {
      "text/plain": [
       "10"
      ]
     },
     "execution_count": 38,
     "metadata": {},
     "output_type": "execute_result"
    }
   ],
   "source": [
    "len(A4.subgroups())"
   ]
  },
  {
   "cell_type": "code",
   "execution_count": 66,
   "id": "44b53e7c-d084-4d6a-8f05-99d420b5b995",
   "metadata": {},
   "outputs": [
    {
     "data": {
      "text/plain": [
       "()"
      ]
     },
     "execution_count": 66,
     "metadata": {},
     "output_type": "execute_result"
    }
   ],
   "source": [
    "C = A4.cosets(K4)\n",
    "\n",
    "product = C[2][0] * C[1][0]\n",
    "product\n"
   ]
  },
  {
   "cell_type": "code",
   "execution_count": 59,
   "id": "b0e97eb0-6935-4443-a8a2-927ec3fb00c3",
   "metadata": {},
   "outputs": [
    {
     "data": {
      "text/plain": [
       "'IDI NAXUY'"
      ]
     },
     "execution_count": 59,
     "metadata": {},
     "output_type": "execute_result"
    }
   ],
   "source": [
    "srange(5)"
   ]
  },
  {
   "cell_type": "code",
   "execution_count": 67,
   "id": "327efffc-4c48-4536-9475-1f6265a7e771",
   "metadata": {},
   "outputs": [],
   "source": [
    "def coset_product(i, j, C):\n",
    "    p = C[i][0] * C[0][j]\n",
    "    c = [k for k in range(len(C)) if p in C[k]]\n",
    "    return c[0]"
   ]
  },
  {
   "cell_type": "code",
   "execution_count": 68,
   "id": "e3145b97-fc96-425f-bfeb-e202b599ec43",
   "metadata": {},
   "outputs": [
    {
     "data": {
      "text/plain": [
       "1"
      ]
     },
     "execution_count": 68,
     "metadata": {},
     "output_type": "execute_result"
    }
   ],
   "source": [
    "coset_product(1, 2, C)"
   ]
  },
  {
   "cell_type": "code",
   "execution_count": null,
   "id": "b9df05b4-61f2-4c86-9f52-7ca960288851",
   "metadata": {},
   "outputs": [],
   "source": []
  }
 ],
 "metadata": {
  "kernelspec": {
   "display_name": "SageMath 10.4",
   "language": "sage",
   "name": "sagemath-10.4"
  },
  "language_info": {
   "codemirror_mode": {
    "name": "ipython",
    "version": 3
   },
   "file_extension": ".py",
   "mimetype": "text/x-python",
   "name": "python",
   "nbconvert_exporter": "python",
   "pygments_lexer": "ipython3",
   "version": "3.12.4"
  }
 },
 "nbformat": 4,
 "nbformat_minor": 5
}
