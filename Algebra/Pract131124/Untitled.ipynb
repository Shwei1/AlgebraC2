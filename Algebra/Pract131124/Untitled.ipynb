{
 "cells": [
  {
   "cell_type": "code",
   "execution_count": 14,
   "id": "bd030e85-484d-46f0-8151-a87a2da471e4",
   "metadata": {},
   "outputs": [
    {
     "data": {
      "text/plain": [
       "False"
      ]
     },
     "execution_count": 14,
     "metadata": {},
     "output_type": "execute_result"
    }
   ],
   "source": [
    "A4 = AlternatingGroup(4)\n",
    "A4.sylow_subgroup(2).structure_description()\n",
    "H = A4.sylow_subgroup(3)\n",
    "H.conjugate([(1, 2), (3, 4)]) \n"
   ]
  },
  {
   "cell_type": "code",
   "execution_count": 36,
   "id": "f5ff2ae9-c830-433a-a196-caf1397458d7",
   "metadata": {},
   "outputs": [
    {
     "data": {
      "text/plain": [
       "The forgetful functor from Category of groups to Category of sets"
      ]
     },
     "execution_count": 36,
     "metadata": {},
     "output_type": "execute_result"
    }
   ],
   "source": [
    "ForgetfulFunctor(Groups(), Sets())"
   ]
  },
  {
   "cell_type": "code",
   "execution_count": 48,
   "id": "3c8ee9bf-9419-4e19-b552-0da502b839e8",
   "metadata": {},
   "outputs": [
    {
     "ename": "AttributeError",
     "evalue": "'str' object has no attribute 'gens'",
     "output_type": "error",
     "traceback": [
      "\u001b[0;31m---------------------------------------------------------------------------\u001b[0m",
      "\u001b[0;31mAttributeError\u001b[0m                            Traceback (most recent call last)",
      "Cell \u001b[0;32mIn[48], line 22\u001b[0m\n\u001b[1;32m     20\u001b[0m \u001b[38;5;28;01mfor\u001b[39;00m i \u001b[38;5;129;01min\u001b[39;00m factor(D36\u001b[38;5;241m.\u001b[39morder()):\n\u001b[1;32m     21\u001b[0m     \u001b[38;5;28;01mfor\u001b[39;00m sylow_subgroup \u001b[38;5;129;01min\u001b[39;00m all_sylow(D36, i[Integer(\u001b[38;5;241m0\u001b[39m)]):\n\u001b[0;32m---> 22\u001b[0m         \u001b[38;5;28mprint\u001b[39m(\u001b[43msylow_subgroup\u001b[49m\u001b[38;5;241;43m.\u001b[39;49m\u001b[43mstructure_description\u001b[49m\u001b[43m(\u001b[49m\u001b[43m)\u001b[49m\u001b[38;5;241;43m.\u001b[39;49m\u001b[43mgens\u001b[49m())\n",
      "\u001b[0;31mAttributeError\u001b[0m: 'str' object has no attribute 'gens'"
     ]
    }
   ],
   "source": [
    "def all_sylow(G, p):\n",
    "    sylowians = []\n",
    "    if (not p.is_prime()):\n",
    "        print(\"No sylow subgroups of such degree.\")\n",
    "        return None\n",
    "    P = G.sylow_subgroup(p)\n",
    "    for x in G:\n",
    "        H = P.conjugate(x)\n",
    "        if H not in sylowians:\n",
    "            sylowians.append(H)\n",
    "    return sylowians\n",
    "\n",
    "\n",
    "# A5 = AlternatingGroup(5)\n",
    "# for i in factor(A5.order()):\n",
    "#     for sylow_subgroup in all_sylow(A5, i[0]):\n",
    "#         print(sylow_subgroup.order())\n",
    "\n",
    "D36 = DihedralGroup(36)\n",
    "for i in factor(D36.order()):\n",
    "    for sylow_subgroup in all_sylow(D36, i[0]):\n",
    "        print(sylow_subgroup.structure_description().gens())\n"
   ]
  },
  {
   "cell_type": "code",
   "execution_count": null,
   "id": "fd8fd398-699e-4248-951f-a7fcf3705074",
   "metadata": {},
   "outputs": [],
   "source": []
  }
 ],
 "metadata": {
  "kernelspec": {
   "display_name": "SageMath 10.4",
   "language": "sage",
   "name": "sagemath-10.4"
  },
  "language_info": {
   "codemirror_mode": {
    "name": "ipython",
    "version": 3
   },
   "file_extension": ".py",
   "mimetype": "text/x-python",
   "name": "python",
   "nbconvert_exporter": "python",
   "pygments_lexer": "ipython3",
   "version": "3.12.4"
  }
 },
 "nbformat": 4,
 "nbformat_minor": 5
}
