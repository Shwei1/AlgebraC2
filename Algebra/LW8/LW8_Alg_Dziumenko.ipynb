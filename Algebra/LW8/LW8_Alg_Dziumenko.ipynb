{
 "cells": [
  {
   "attachments": {},
   "cell_type": "markdown",
   "id": "d344deb3-66ad-4695-ac16-cddf4c362d38",
   "metadata": {},
   "source": [
    "# Лабораторна робота 8\n",
    "\n",
    "__Знайдіть к-ть різних розфарбувань кубика Рубика 2х2х2, використовуючи 10 кольорів.__\n",
    "\n",
    "<img src=\"./rubik_cube.jpg\" alt=\"Image\" style=\"width:400px;height:auto;\">\n",
    "\n",
    "\n",
    "Два розфарбування називатимуться однаковими, якщо існує послідовність рухів кубика рубика, яка одне розфарбування переводить в інше. \n",
    "\n",
    "Не обовʼязково використовувати всі 10 кольорів, тобто допустимо пофарбувати весь кубик в один колір. \n",
    "\n",
    "___Приклад___: існує 183 різних розфарбувань, використовуючи 2 кольори. \n",
    "\n",
    "__Лема (Бернсайд):__ \n",
    " $$|\\mathcal{O}_{X}(G)| = \\frac{1}{|G|}\\sum_{g \\in G}\\text{Fix}_{X}(g)$$\n",
    "\n",
    "Множиною, на якій діє група H, — розфарбовані в m кольорів кубики. $\\text{Fix(g)}$ будуть кубики, які під дією g не змінюють відповідність «клітинка—колір». Кількістю орбіт буде кількість різних розфарбувань кубика.\n",
    "Усі дії ми позначили як перестановки. Нехай g — перестановка, що складається з k незалежних циклів. Єдиний можливий спосіб інваріантного пофарбування під дією цієї перестановки — це той, у якому при переході будь-якої клітинки на місце іншої клітинки не змінюється колір. Це можливо, коли всередині одного незалежного циклу всі відповідні клітинки пофарбовані однаково. На кожен цикл у перестановці у нас є m варіантів вибрати колір. При цьому взагалі не важлива кількість елементів у цьому циклі, істотна лише кількість цих циклів у перестановці. Кількість елементів одного циклового типу в $S_{n}$ визначається розміром класу спряженості цього елементу. Варто зауважити, що коли мова йде про підгрупу $S_{n}$, не всі перестановки одного циклового типу потрапляють в один клас спряженості, але для леми Бернсайда істотною є лише кількість перестановок одного типу, тому ми маємо право просто перерахувати їх разом. Отже, загальна формула для розфарбувань така:\n",
    "$$ \\chi(X) = \\frac{1}{|G|}\\sum_{g \\in G} |Cl_{G}(g)| \\times m^{k} $$\n",
    "де m — кількість кольорів, k — кількість незалежних циклів у перестановці."
   ]
  },
  {
   "cell_type": "code",
   "execution_count": 86,
   "id": "a8ac4995-14b4-467d-a1f3-128841eabfb9",
   "metadata": {},
   "outputs": [
    {
     "name": "stdout",
     "output_type": "stream",
     "text": [
      "The order of the group of symmetries of a 2x2 Rubik's cube:  88179840\n",
      "The amount of distinct colourings of a 2x2 Rubik's cube with 2 colours:  183\n",
      "The amount of distinct colourings of a 2x2 Rubik's cube with 10 colours:  12395526079546335\n"
     ]
    }
   ],
   "source": [
    "G = SymmetricGroup(24)\n",
    "\n",
    "g1 = G('(1, 2, 4, 3)(5, 24, 9, 7)(6, 23, 10, 8)');\n",
    "g2 = G('(7, 8, 14, 13)(3, 9, 18, 12)(4, 15, 17, 6)')\n",
    "g3 = G('(9, 10, 16, 15)(4, 24, 20, 14)(2, 22, 18, 8)')\n",
    "g4 = G('(11, 5, 6, 12)(1, 7, 17, 21)(3, 13, 19, 23)')\n",
    "g5 = G('(23, 24, 22, 21)(1, 10, 20, 11)(2, 16, 19, 5)')\n",
    "g6 = G('(20, 19, 17, 18)(22, 11, 13, 15)(21, 12, 14, 16)')\n",
    "\n",
    "H = G.subgroup([g1, g2, g3, g4, g5, g6])\n",
    "\n",
    "cycletypes = {} # Цикловий тип — кількість\n",
    "\n",
    "for C in H.conjugacy_classes():\n",
    "    g = C.representative()\n",
    "    cycle_structure = g.cycle_type()\n",
    "    cycletypes[tuple(cycle_structure)] = cycletypes.get((tuple(cycle_structure)), 0) + C.cardinality()\n",
    "\n",
    "def Burnside(cycle_count, colours, H):\n",
    "    modG = H.order()\n",
    "    sum = 0\n",
    "    for key, value in cycle_count.items():\n",
    "        power = len(key)\n",
    "        sum += colours^power * value\n",
    "    return sum/modG\n",
    "\n",
    "print(\"The order of the group of symmetries of a 2x2 Rubik's cube: \", H.order())\n",
    "\n",
    "print(\"The amount of distinct colourings of a 2x2 Rubik's cube with 2 colours: \", Burnside(cycletypes, 2, H))\n",
    "\n",
    "print(\"The amount of distinct colourings of a 2x2 Rubik's cube with 10 colours: \", Burnside(cycletypes, 10, H)) \n"
   ]
  },
  {
   "cell_type": "code",
   "execution_count": null,
   "id": "f4e42903-1fef-4295-ac04-674154f97004",
   "metadata": {},
   "outputs": [],
   "source": []
  }
 ],
 "metadata": {
  "kernelspec": {
   "display_name": "SageMath 10.4",
   "language": "sage",
   "name": "sagemath-10.4"
  },
  "language_info": {
   "codemirror_mode": {
    "name": "ipython",
    "version": 3
   },
   "file_extension": ".py",
   "mimetype": "text/x-python",
   "name": "python",
   "nbconvert_exporter": "python",
   "pygments_lexer": "ipython3",
   "version": "3.12.4"
  }
 },
 "nbformat": 4,
 "nbformat_minor": 5
}
