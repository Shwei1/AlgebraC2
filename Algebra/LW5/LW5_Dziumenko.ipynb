{
 "cells": [
  {
   "cell_type": "markdown",
   "id": "eceddb54-28a9-4f33-852c-905b424cf619",
   "metadata": {},
   "source": [
    "# Лабораторна робота 5 \n",
    "\n",
    "## Завдання 1\n",
    "\n",
    "Розгляньте групу матриць за множенням  \n",
    "\n",
    "$$G = \\left\\langle \\left(\\begin{array}{rrr}\n",
    "1 & 0 & 1 \\\\\n",
    "0 & 1 & 0 \\\\\n",
    "0 & 0 & 1\n",
    "\\end{array}\\right),  \\left(\\begin{array}{rrr}\n",
    "1 & 0 & 0 \\\\\n",
    "0 & 1 & 1 \\\\\n",
    "0 & 0 & 1\n",
    "\\end{array}\\right)\\right\\rangle$$\n",
    "\n",
    "Дайте відповідь на наступні питання: \n",
    "\n",
    "1. _Чи є група G скінченною?_\n",
    "2. _Чи є група G комутативною?_\n",
    "3. _Який вигляд мають елементи групи G?_\n",
    "4. _Які порядки мають елементи групи G?_ \n",
    "5. _Чому ізоморфна група G?_\n",
    "\n",
    "\n",
    "__Відповіді__: \n",
    "1. Ні, не є;\n",
    "2. Так, є;\n",
    "3. Подаючи елементи як $\\mathbb{M}_{1}^n \\times \\mathbb{M}_{2}^m$, у результаті отримаємо матриці вигляду $\\mathbb{1} + nE_{1, 3} + mE_{2,3}$ (Приклад у коді);\n",
    "4. Нескінченні, окрім, звісно, нейтрального елемента 𝟙 порядку 1;\n",
    "5. Нескінченній циклічній групі ($\\mathbb{Z}^2$, +)."
   ]
  },
  {
   "cell_type": "code",
   "execution_count": 37,
   "id": "4e6bbc1a-50ed-493c-a217-468e4f2c7688",
   "metadata": {},
   "outputs": [
    {
     "name": "stdout",
     "output_type": "stream",
     "text": [
      "+Infinity\n",
      "True\n"
     ]
    },
    {
     "data": {
      "text/plain": [
       "[1 0 n]\n",
       "[0 1 m]\n",
       "[0 0 1]"
      ]
     },
     "execution_count": 37,
     "metadata": {},
     "output_type": "execute_result"
    }
   ],
   "source": [
    "M1 = Matrix([[1, 0, 1], [0, 1, 0], [0, 0, 1]])\n",
    "M2 = Matrix([[1, 0, 0],[0, 1, 1], [0, 0, 1]])\n",
    "G = MatrixGroup([M1, M2])\n",
    "# print(M1)\n",
    "# print(M2)\n",
    "print(G.cardinality())\n",
    "print(G.is_abelian())\n",
    "\n",
    "var('n')\n",
    "var('m')\n",
    "\n",
    "M1^n\n",
    "M2^n\n",
    "M1^n * M2^m"
   ]
  },
  {
   "cell_type": "markdown",
   "id": "4b51fa8b-4aaf-4b15-9478-a546c500583d",
   "metadata": {},
   "source": [
    "## Завдання 2 \n",
    "\n",
    "Розгляньте групу матриць за множенням: \n",
    "\n",
    "$$G = \\left\\langle \\left(\\begin{array}{rr}\n",
    "1 & -1 \\\\\n",
    "-1 & 2\n",
    "\\end{array}\\right), \\left(\\begin{array}{rr}\n",
    "3 & 2 \\\\\n",
    "2 & 1\n",
    "\\end{array}\\right) \\right\\rangle$$\n",
    "\n",
    "Дайте відповідь на наступні питання: \n",
    "\n",
    "1. _Чи є група G скінченною?_\n",
    "2. _Чи є група G комутативною?_\n",
    "3. _Який вигляд мають елементи групи G?_\n",
    "4. _Які порядки мають елементи групи G?_ \n",
    "5. _Чому ізоморфна група G?_\n",
    "\n",
    "\n",
    "__Відповіді__: \n",
    "1. Ні, не є;\n",
    "2. Так, є;\n",
    "3. Елементи мають вигляд $\\mathbb{M}_{1}^n \\times \\mathbb{M}_{2}^m$, явний вигляд можна побачити в коді, він доволі складний;\n",
    "4. Нескінченні, окрім нейтрального елемента $\\mathbb{1}$ з порядком 1; \n",
    "5. Елементи G подаються у вигляді n$g_{1} \\times mg_{2}$. Оскільки єдиним елементом скінченного порядку в G є $\\mathbb{1}$, то така група буде без «закруту» (torsion-free). За теоремою про класифікацію скінченнопороджених абелевих груп, G $\\cong \\mathbb{Z} \\oplus \\mathbb{Z} = \\mathbb{Z}^2$."
   ]
  },
  {
   "cell_type": "code",
   "execution_count": 71,
   "id": "90507d96-1506-4ac1-af8b-e7ad3840755a",
   "metadata": {},
   "outputs": [
    {
     "data": {
      "text/plain": [
       "[                                                        1/4*((sqrt(5) + 2)^m*(sqrt(1/5) + 1) - (-sqrt(5) + 2)^m*(sqrt(1/5) - 1))*((-1/2*sqrt(5) + 3/2)^n*(sqrt(1/5) + 1) - (1/2*sqrt(5) + 3/2)^n*(sqrt(1/5) - 1)) - 1/4*((sqrt(5) + 2)^m*(sqrt(5) - 1)*(sqrt(1/5) + 1) + (-sqrt(5) + 2)^m*(sqrt(5) + 1)*(sqrt(1/5) - 1))*(sqrt(1/5)*(1/2*sqrt(5) + 3/2)^n - sqrt(1/5)*(-1/2*sqrt(5) + 3/2)^n)                                                                                 1/2*((-1/2*sqrt(5) + 3/2)^n*(sqrt(1/5) + 1) - (1/2*sqrt(5) + 3/2)^n*(sqrt(1/5) - 1))*(sqrt(1/5)*(sqrt(5) + 2)^m - sqrt(1/5)*(-sqrt(5) + 2)^m) - 1/2*(sqrt(1/5)*(-sqrt(5) + 2)^m*(sqrt(5) + 1) + sqrt(1/5)*(sqrt(5) + 2)^m*(sqrt(5) - 1))*(sqrt(1/5)*(1/2*sqrt(5) + 3/2)^n - sqrt(1/5)*(-1/2*sqrt(5) + 3/2)^n)]\n",
       "[1/8*((sqrt(5) + 2)^m*(sqrt(5) - 1)*(sqrt(1/5) + 1) + (-sqrt(5) + 2)^m*(sqrt(5) + 1)*(sqrt(1/5) - 1))*(sqrt(1/5)*(1/2*sqrt(5) + 3/2)^n*(sqrt(5) + 1) + sqrt(1/5)*(-1/2*sqrt(5) + 3/2)^n*(sqrt(5) - 1)) + 1/8*((-1/2*sqrt(5) + 3/2)^n*(sqrt(5) - 1)*(sqrt(1/5) + 1) + (1/2*sqrt(5) + 3/2)^n*(sqrt(5) + 1)*(sqrt(1/5) - 1))*((sqrt(5) + 2)^m*(sqrt(1/5) + 1) - (-sqrt(5) + 2)^m*(sqrt(1/5) - 1))                         1/4*(sqrt(1/5)*(1/2*sqrt(5) + 3/2)^n*(sqrt(5) + 1) + sqrt(1/5)*(-1/2*sqrt(5) + 3/2)^n*(sqrt(5) - 1))*(sqrt(1/5)*(-sqrt(5) + 2)^m*(sqrt(5) + 1) + sqrt(1/5)*(sqrt(5) + 2)^m*(sqrt(5) - 1)) + 1/4*((-1/2*sqrt(5) + 3/2)^n*(sqrt(5) - 1)*(sqrt(1/5) + 1) + (1/2*sqrt(5) + 3/2)^n*(sqrt(5) + 1)*(sqrt(1/5) - 1))*(sqrt(1/5)*(sqrt(5) + 2)^m - sqrt(1/5)*(-sqrt(5) + 2)^m)]"
      ]
     },
     "execution_count": 71,
     "metadata": {},
     "output_type": "execute_result"
    }
   ],
   "source": [
    "K1 = Matrix([[1, -1], [-1, 2]])\n",
    "K2 = Matrix([[3, 2], [2, 1]])\n",
    "G = MatrixGroup([K1, K2])\n",
    "G.cardinality()\n",
    "G.is_abelian()\n",
    "G_smaller = MatrixGroup([K1])\n",
    "G_more_little = MatrixGroup([K2])\n",
    "var('m')\n",
    "var('n')\n",
    "K1.inverse() * K1\n",
    "K2^10\n",
    "K1^n * K2^m\n",
    "\n"
   ]
  },
  {
   "cell_type": "markdown",
   "id": "19188467-cc30-42b5-a48c-1329337ff2c0",
   "metadata": {},
   "source": [
    "## Завдання 3\n",
    "\n",
    "Розгляньте групу матриць за множенням: \n",
    "\n",
    "$$K = \\left\\langle \\left(\\begin{array}{rrr}\n",
    "-1 & 0 & 0 \\\\\n",
    "0 & 1 & \\frac{1}{2} \\\\\n",
    "0 & 0 & 1\n",
    "\\end{array}\\right), \n",
    "\\left(\\begin{array}{rrr}\n",
    "1 & 0 & 1 \\\\\n",
    "0 & 1 & 0 \\\\\n",
    "0 & 0 & 1\n",
    "\\end{array}\\right) \\right\\rangle$$\n",
    "\n",
    "Дайте відповідь на наступні питання: \n",
    "\n",
    "1. _Чи є група K скінченною?_\n",
    "2. _Чи є група K комутативною?_\n",
    "3. _Який вигляд мають елементи групи K?_\n",
    "4. _Які порядки мають елементи групи K?_ \n",
    "\n",
    "__Відповіді__: \n",
    "1. Ні, не є;\n",
    "2. Ні, не є;\n",
    "3.  У цілому інваріантними залишаються: весь другий стовпчик, увесь нижній рядок і клітинка (2,1). Представимо елемент $K$ як $$\n",
    "\\prod_{}^{p} \\mathbb{K}_{1}^k \\times \\mathbb{K}_{2}^l\n",
    "$$ де k, l $\\in \\mathbb{Z}$, p $\\in \\mathbb{N}$. Знак одиниці в клітинці (1, 1) буде залежати від парності суми степенів елементів добутку $\\mathbb{K}_{1}$; Значення в клітинці (1, 3) буде дорівнювати сумі степенів елементів добутку $\\mathbb{K}_{2}$; Значення в клітинці (2,3) дорівнюватиме сумі степенів елементів добутку $\\mathbb{K}_{1}$, поділеній на два.\n",
    "\n",
    "5. Єдиним елементом скінченного порядку 1 буде нейтральний елемент $\\mathbb{1}$. Інші елементи будуть нескінченного порядку.\n",
    "6. Окрім тривіальних підгруп $K$ $\\geq$ $K$ та $ \\{\\mathbb{1}\\} \\lt K$, по окремості $K$ $\\gt$ $\\langle\\mathbb{K}_{1}\\rangle$ $\\cong \\mathbb{Z}$ та $K$ $\\gt$ $\\langle\\mathbb{K}_{2}\\rangle$ $\\cong \\mathbb{Z}$. Ці дві твірні однозначно не залежать одна від одної та кожна з них має ідентичну $\\mathbb{Z}$ структуру. $K$ $\\gt$ $\\langle\\mathbb{K}_{1}\\times\\mathbb{K}_{2}\\rangle$ $\\cong \\mathbb{Z}$ і ідентично $K$ $\\gt$ $\\langle\\mathbb{K}_{2}\\times\\mathbb{K}_{1}\\rangle$ $\\cong \\mathbb{Z}$. Абелева підгрупа, породжена комутатором $K$ $\\gt$ $[\\mathbb{K}_{1},\\mathbb{K}_{2}]$ $\\cong \\mathbb{Z}$. Як можна помітити, ця група дуже багата на циклічні абелеві підгрупи. Загалом усі підгрупи вигляду $K$ $\\gt$ $\\langle\\mathbb{K}_{1}^n\\times\\mathbb{K}_{2}^m\\rangle$ будуть ізоморфні $n*m*\\mathbb{Z}$, що було видно з загального вигляду. Підгрупи вигляду $K$ $\\gt$ $\\langle\\mathbb{K}_{2}^n\\times\\mathbb{K}_{1}^m\\rangle$ будуть ізоморфні $n*\\mathbb{Z}$.\n",
    "\n",
    "\n",
    "__Додаткова задача:__\n",
    "Опишіть підгрупи групи K з точністю до ізоморфізму. "
   ]
  },
  {
   "cell_type": "code",
   "execution_count": 200,
   "id": "e527f82c-506c-4c52-8136-4b9ba5391e63",
   "metadata": {},
   "outputs": [
    {
     "data": {
      "text/plain": [
       "[1 0 8]\n",
       "[0 1 4]\n",
       "[0 0 1]"
      ]
     },
     "execution_count": 200,
     "metadata": {},
     "output_type": "execute_result"
    }
   ],
   "source": [
    "K1 = Matrix([[-1, 0, 0], [0, 1, 1/2], [0, 0, 1]])\n",
    "K2 = Matrix([[1, 0, 1], [0, 1, 0], [0, 0, 1]])\n",
    "K = MatrixGroup([K1, K2])\n",
    "K.cardinality()\n",
    "K.is_abelian()\n",
    "ProdK = K1 * K2\n",
    "ProdK^3 * ProdK^2 == ProdK^2 * ProdK^3\n",
    "Kprod = MatrixGroup([ProdK])\n",
    "Kprod == K\n",
    "CommutatorK = K1.inverse() * K2.inverse() * K1 * K2\n",
    "CommutatorGroup = MatrixGroup([CommutatorK])\n",
    "CommutatorGroup.cardinality()\n",
    "CommutatorGroup.is_abelian()\n",
    "# K1^2 * K1^3 == K1^3 * K1^2\n",
    "ProdK^2 * ProdK^3 == ProdK^5\n",
    "ProdK^2 * ProdK^3 == ProdK^3 * ProdK^2\n",
    "ProdKinverse = K2 * K1\n",
    "KprodInverse = MatrixGroup([ProdKinverse])\n",
    "ProdKinverse^7\n",
    "NM_K = MatrixGroup([K1^2 * K2^3])\n",
    "n = 3\n",
    "m = 4\n",
    "NM_K_el = K1^n * K2^m\n",
    "NM_K_el^-1\n",
    "\n",
    "MN_K_el = K2^m * K1^n\n",
    "MN_K_el^4\n",
    "\n",
    "# K1 * K2 * K1\n",
    "# var('n')\n",
    "# var('m')\n",
    "\n",
    "# K2^-n * K1^-m * K1^n * K2^m\n",
    "\n",
    "K1^4 * K2^5 * K1^4 * K2^3\n",
    "\n",
    "\n",
    "\n"
   ]
  },
  {
   "cell_type": "code",
   "execution_count": null,
   "id": "54295909-0ccd-4304-9ca5-ce618058f011",
   "metadata": {},
   "outputs": [],
   "source": []
  }
 ],
 "metadata": {
  "kernelspec": {
   "display_name": "SageMath 10.4",
   "language": "sage",
   "name": "sagemath-10.4"
  },
  "language_info": {
   "codemirror_mode": {
    "name": "ipython",
    "version": 3
   },
   "file_extension": ".py",
   "mimetype": "text/x-python",
   "name": "python",
   "nbconvert_exporter": "python",
   "pygments_lexer": "ipython3",
   "version": "3.12.4"
  }
 },
 "nbformat": 4,
 "nbformat_minor": 5
}
