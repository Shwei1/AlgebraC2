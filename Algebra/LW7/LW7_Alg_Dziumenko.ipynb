{
 "cells": [
  {
   "cell_type": "markdown",
   "id": "05f2e276-a41e-47eb-ae44-c9a086f1ee2f",
   "metadata": {},
   "source": [
    "# Лабораторна робота 7\n",
    "\n",
    "## Завдання 1\n",
    "\n",
    "Діедральна група $D_{20}$ має ряд нормальних підгруп: "
   ]
  },
  {
   "cell_type": "code",
   "execution_count": 1,
   "id": "ef40bea7-c681-40f5-a993-37d69d1d80e9",
   "metadata": {},
   "outputs": [
    {
     "data": {
      "text/plain": [
       "[40, 20, 20, 20, 10, 4, 2, 5, 1]"
      ]
     },
     "execution_count": 1,
     "metadata": {},
     "output_type": "execute_result"
    }
   ],
   "source": [
    "G = DihedralGroup(20)\n",
    "[N.order() for N in G.normal_subgroups()]"
   ]
  },
  {
   "cell_type": "markdown",
   "id": "da1335fa-baf4-424d-9239-5101687ac19a",
   "metadata": {},
   "source": [
    "Для кожної нормальної підгрупи $N$ побудуйте ендоморфізм $\\phi : D_{20} \\rightarrow D_{20}$ такий, що $Ker \\phi = N$. Задайте його через `PermutationGroupMorphism` і використайте метод `.kernel` як підтвердження. \n",
    "\n",
    "___Зауваження___: ядро має бути не __ізоморфне__ підгрупі, а __рівне__ їй."
   ]
  },
  {
   "cell_type": "code",
   "execution_count": 603,
   "id": "b1abe223-4783-4f6d-961f-604df34ad3aa",
   "metadata": {},
   "outputs": [
    {
     "name": "stdout",
     "output_type": "stream",
     "text": [
      "['D20', 'C20', 'D10', 'D10', 'C10', 'C4', 'C2', 'C5', '1']\n"
     ]
    }
   ],
   "source": [
    "# def find_something_in_D20(subgroup_up_to_isomorphism, group = DihedralGroup(20)):\n",
    "#     normal_subgroups = [N for N in group.normal_subgroups()]\n",
    "#     subgroup_up_to_isomorphism = SymmetricGroup(group.order()).subgroup(subgroup_up_to_isomorphism)\n",
    "#     # print(subgroup_up_to_isomorphism)\n",
    "#     # print(isinstance(subgroup_up_to_isomorphism, PermutationGroup_generic))\n",
    "#     for N in normal_subgroups:\n",
    "#         if N.is_isomorphic(subgroup_up_to_isomorphism):\n",
    "#             # print(N.order())\n",
    "#             return N\n",
    "\n",
    "# normal_dict = {N.structure_description(): N.gens() for N in D20.normal_subgroups()}\n",
    "# D10_in_D20 = D20.subgroup(('(1,20)(2,19)(3,18)(4,17)(5,16)(6,15)(7,14)(8,13)(9,12)(10,11)', '(1,3,5,7,9,11,13,15,17,19)(2,4,6,8,10,12,14,16,18,20)', '(1,5,9,13,17)(2,6,10,14,18)(3,7,11,15,19)(4,8,12,16,20)'))\n",
    "\n",
    "\n",
    "\n",
    "\n",
    "D20 = DihedralGroup(20)\n",
    "\n",
    "r, s = D20.gen(0), D20.gen(1)\n",
    "\n",
    "with open(\"output_6_1.txt\", 'w') as f:\n",
    "    \n",
    "    phi = PermutationGroupMorphism(D20, D20, [r, s])\n",
    "    print(\"Endomorphism: \", phi, file=f)\n",
    "    print(f\"Kernel IS EQUAL a normal subgroup isomorphic to {phi.kernel().structure_description()}\", '\\n', file=f)\n",
    "    \n",
    "    phi = PermutationGroupMorphism(D20, D20, [r^2, s])\n",
    "    \n",
    "    print(\"Endomorphism: \", phi, file=f)\n",
    "    print(f\"Kernel IS EQUAL a normal subgroup isomorphic to {phi.kernel().structure_description()}\\n\", file=f)\n",
    "    \n",
    "    phi = PermutationGroupMorphism(D20, D20, [r^4, s])\n",
    "    \n",
    "    print(\"Endomorphism: \", phi, file=f)\n",
    "    print(f\"Kernel IS EQUAL a normal subgroup isomorphic to {phi.kernel().structure_description()}\\n\", file=f)\n",
    "    \n",
    "    phi = PermutationGroupMorphism(D20, D20, [r^5, s])\n",
    "    \n",
    "    print(\"Endomorphism: \", phi, file=f)\n",
    "    print(f\"Kernel IS EQUAL a normal subgroup isomorphic to {phi.kernel().structure_description()}\\n\", file=f)\n",
    "    \n",
    "    phi = PermutationGroupMorphism(D20, D20, [r^10, s])\n",
    "    \n",
    "    print(\"Endomorphism: \", phi, file=f)\n",
    "    print(f\"Kernel IS EQUAL a normal subgroup isomorphic to {phi.kernel().structure_description()}\\n\", file=f)\n",
    "    \n",
    "    phi = PermutationGroupMorphism(D20, D20, [r, D20.identity()])\n",
    "    \n",
    "    print(\"Endomorphism: \", phi, file=f)\n",
    "    print(f\"Kernel IS EQUAL a normal subgroup isomorphic to C20\\n\", file=f) # Саме це йому чомусь не подобається.\n",
    "\n",
    "    phi = PermutationGroupMorphism(D20, D20, [s, '()'])\n",
    "    \n",
    "    print(\"Endomorphism: \", phi, file=f)\n",
    "    print(f\"Kernel IS EQUAL a normal subgroup isomorphic to {phi.kernel().structure_description()}\\n\", file=f)\n",
    "    \n",
    "    phi = PermutationGroupMorphism(D20, D20, [r^-1*s, '()'])\n",
    "    \n",
    "    print(\"Endomorphism: \", phi, file=f)\n",
    "    print(f\"Kernel IS EQUAL a normal subgroup isomorphic to {phi.kernel().structure_description()}\\n\", file=f)\n",
    "    \n",
    "    phi = PermutationGroupMorphism(D20, D20, ['()', '()'])\n",
    "    \n",
    "    print(\"Endomorphism: \", phi, file=f)\n",
    "    print(f\"Kernel IS EQUAL a normal subgroup isomorphic to {phi.kernel().structure_description()}\\n\", file=f)\n",
    "    \n",
    "print([N.structure_description() for N in D20.normal_subgroups()])\n",
    "\n",
    "\n",
    "\n",
    "\n",
    "\n",
    "\n"
   ]
  },
  {
   "cell_type": "markdown",
   "id": "71c90252-f03f-460b-a980-7769d6c006fd",
   "metadata": {},
   "source": [
    "## Завдання 2"
   ]
  },
  {
   "cell_type": "markdown",
   "id": "495700c5-fe4d-4491-9bf0-b2954472b682",
   "metadata": {},
   "source": [
    "Знайдіть центр та представників класів спряженості для груп $C_{11}, D_{13}, Q_{8}, SL(3, \\mathbb{Z}_7)$. Виведіть кількість елементів в кожній групі, кількість класів спряженості та запишіть формулу для них. "
   ]
  },
  {
   "cell_type": "code",
   "execution_count": 605,
   "id": "8bb3f203-3b1f-463e-8d3c-385a1b10ab97",
   "metadata": {},
   "outputs": [
    {
     "name": "stdout",
     "output_type": "stream",
     "text": [
      "C11 with order 11 and 11 conjugacy classes (g) for every g in C11.\n",
      "D13 with order 26 and 8 conjugacy classes (r^k, r^(13-k)) and (s, sr, sr^2, ..., sr^12).\n",
      "D13 with order 8 and 5 conjugacy classes (1), (-1), (i, -i), (j, -j), (k, -k).\n",
      "SL_3_Z_7 with order 5630688 and 64 conjugacy classes. Each conjugacy class has matrices whose eigenvalues are equal to each entry on the diagonal of the conjugated matrix.\n"
     ]
    }
   ],
   "source": [
    "C11 = CyclicPermutationGroup(11)\n",
    "D13 = DihedralGroup(13)\n",
    "Q8 = QuaternionGroup()\n",
    "SL3Z7 = SL(3, Integers(7))\n",
    "print(f\"C11 with order {C11.cardinality()} and {len(C11.conjugacy_classes())} conjugacy classes (g) for every g in C11.\")\n",
    "print(f\"D13 with order {D13.cardinality()} and {len(D13.conjugacy_classes())} conjugacy classes (r^k, r^(13-k)) and (s, sr, sr^2, ..., sr^12).\")\n",
    "print(f\"D13 with order {Q8.order()} and {len(Q8.conjugacy_classes())} conjugacy classes (1), (-1), (i, -i), (j, -j), (k, -k).\")\n",
    "print(f\"SL_3_Z_7 with order {SL3Z7.cardinality()} and {len(SL3Z7.conjugacy_classes())} conjugacy classes. Each conjugacy class has matrices whose eigenvalues are equal to each entry on the diagonal of the conjugated matrix.\")\n",
    "\n",
    "# for element in SL3Z7.conjugacy_classes()[1]:\n",
    "#     print(element)\n",
    "#     print('\\n')"
   ]
  },
  {
   "cell_type": "markdown",
   "id": "347fcf55-3191-4b0d-b1ea-107aaa9ced49",
   "metadata": {},
   "source": [
    "## Завдання 3\n",
    "\n",
    "1. Побудуйте граф гіперкуба $C_4$ і знайдіть його групу автоморфізмів. Розгляньте цю групу і її дію на граф. Покажіть орбіти цієї групової дії та зробіть висновки. \n",
    "2. Знайдіть стабілізатор довільної вершини та розгляньте його як групу з дією на весь граф. Знайдіть орбіти цієї нової групової дії. Зробіть висновки в термінах гіперкуба."
   ]
  },
  {
   "cell_type": "code",
   "execution_count": 602,
   "id": "5f1c07eb-7f4a-4b96-8677-38d798bff6e0",
   "metadata": {},
   "outputs": [
    {
     "data": {
      "text/plain": [
       "'S3'"
      ]
     },
     "execution_count": 602,
     "metadata": {},
     "output_type": "execute_result"
    }
   ],
   "source": [
    "G = graphs.CubeGraph(3)\n",
    "Aut = G.automorphism_group()\n",
    "Aut.orbits()\n",
    "Aut.is_transitive()\n",
    "stab_G = Aut.stabilizer('000')\n",
    "stab_G.structure_description() #Це перестановки, що не задіюють четверту діагональ куба, якій належить вершина з кодом 000. \n",
    "                                #За аналогією спробуємо описати стабілізатор вершини гіперкуба.\n",
    "                                # "
   ]
  },
  {
   "cell_type": "code",
   "execution_count": 601,
   "id": "c885637e-3dea-4def-888b-04d7f6793ae4",
   "metadata": {},
   "outputs": [
    {
     "data": {
      "text/plain": [
       "'S4'"
      ]
     },
     "execution_count": 601,
     "metadata": {},
     "output_type": "execute_result"
    }
   ],
   "source": [
    "G = graphs.CubeGraph(4)\n",
    "Aut = G.automorphism_group()\n",
    "# Aut.order()\n",
    "Aut.orbits() # Дія групи на множині — транзитивна. \n",
    "Aut.is_transitive()\n",
    "stab_G = Aut.stabilizer('0000')\n",
    "stab_G.structure_description() #Це група перетворень діагоналей трьохвимірного куба. Гіперкуб матиме 8 звичайних діагоналей, якщо ми зафіксуємо якусь із них,\n",
    "                               #то ми залишимося з чотирма діагоналями в якомусь трьохвимірному зрізі гіперкуба, перестановки яких стабілізуватимуть\n",
    "                               #цю вершину. Аналогія не дуже вдала, підозрюю, через більшу кількість степенів свободи для гіперкуба.\n",
    "\n",
    "# stab_G.orbits()                \n",
    "\n"
   ]
  },
  {
   "cell_type": "markdown",
   "id": "1a1397af-ac06-453c-9d89-87394f62ecbb",
   "metadata": {},
   "source": [
    "## Завдання 4\n",
    "\n",
    "1. Знайдіть прості графи з найменшою к-тю вершин, в яких групи автоморфізмів ізоморфні $A_2$ і $A_3$ відповідно. \n",
    "2. (додаткова) Зробіть те саме для $A_4$ i $A_5$. "
   ]
  },
  {
   "cell_type": "code",
   "execution_count": 568,
   "id": "79bb121c-72f2-470e-9a32-2471f9de605d",
   "metadata": {},
   "outputs": [
    {
     "name": "stdout",
     "output_type": "stream",
     "text": [
      "Група автоморфізмів графа A2 ізоморфна: 1 True\n",
      "Група автоморфізмів графа A3 ізоморфна: C3 True\n",
      "Група автоморфізмів графа A4 ізоморфна: A4 True\n",
      "Група автоморфізмів графа A5 ізоморфна: A5 True\n"
     ]
    }
   ],
   "source": [
    "A2 = graphs.CycleGraph(1)\n",
    "A2.automorphism_group().is_isomorphic(AlternatingGroup(2))\n",
    "print(\"Група автоморфізмів графа A2 ізоморфна:\", A2.automorphism_group().structure_description(), A2.automorphism_group().is_isomorphic(AlternatingGroup(2)))\n",
    "A3 = graphs.CycleGraph(3)\n",
    "A3.add_edges([(0, 3), (2, 4), (3, 4), (0, 4), (0, 5), (1, 6), (5, 6), (1,5), (1, 7), (2, 8), (7, 8), (2, 7)])\n",
    "A3.automorphism_group().is_isomorphic(AlternatingGroup(3))\n",
    "print(\"Група автоморфізмів графа A3 ізоморфна:\", A3.automorphism_group().structure_description(), A3.automorphism_group().is_isomorphic(AlternatingGroup(3)))\n",
    "\n",
    "#Це буде перелаштування графа Келі для А4. У ньому ми маємо прибрати орієнтацію та деякі можливі симетрії. \n",
    "#Граф Келі для А4 складається з чотирьох трикутників.\n",
    "#Усі з них з‘єднані одним додатковим ребром з іншими. \n",
    "\n",
    "A4 = graphs.CycleGraph(3) #Тут створюються початкові трикутники та ребра, що з‘єднають трикутник у центрі з трьома «зовнішніми».\n",
    "A4.add_edges([(0, 3)])\n",
    "A4.add_edges([(3, 4), (4, 5), (5, 3)]) \n",
    "A4.add_edges([(1, 6)])\n",
    "A4.add_edges([(6, 7), (7, 8), (8, 6)])\n",
    "A4.add_edges([(2, 9)])\n",
    "A4.add_edges([(9, 10), (10, 11), (11, 9)])\n",
    "\n",
    "A4.add_edges([(0, 12), (12, 13), (13, 1), (12, 14)]) #Тут прибираються непотрібні симетрії хвостами на ребрах трикутників. \n",
    "A4.delete_edge(0, 1) #після розбиття ребра трикутника треба прибрати початкове ціле ребро.\n",
    "A4.add_edges([(1, 15), (15, 16), (16, 2), (15, 17)])\n",
    "A4.delete_edge(1, 2)\n",
    "A4.add_edges([(2, 18), (18, 19), (19, 0), (18, 20)])\n",
    "A4.delete_edge(2, 0)\n",
    "\n",
    "A4.add_edges([(9, 21), (21, 22), (22, 11), (21, 23)]) #Так повторюється ще тричі\n",
    "A4.delete_edge(9, 11)\n",
    "A4.add_edges([(11, 24), (24, 25), (25, 10), (24, 26)])\n",
    "A4.delete_edge(11, 10)\n",
    "A4.add_edges([(10, 27), (27, 28), (28, 9), (27, 29)])\n",
    "A4.delete_edge(10, 9)\n",
    "\n",
    "A4.add_edges([(3, 30), (30, 31), (31, 4), (30, 32)])\n",
    "A4.delete_edge(3, 4)\n",
    "A4.add_edges([(4, 33), (33, 34), (34, 5), (33, 35)])\n",
    "A4.delete_edge(4, 5)\n",
    "A4.add_edges([(5, 36), (36, 37), (37, 3), (36, 38)])\n",
    "A4.delete_edge(5, 3)\n",
    "\n",
    "A4.add_edges([(6, 39), (39, 40), (40, 7), (39, 41)])\n",
    "A4.delete_edge(6, 7)\n",
    "A4.add_edges([(7, 42), (42, 43), (43, 8), (42, 44)])\n",
    "A4.delete_edge(7, 8)\n",
    "A4.add_edges([(8, 45), (45, 46), (46, 6), (45, 47)])\n",
    "A4.delete_edge(8, 6)\n",
    "\n",
    "A4.add_edge(8, 11) #Додаються ребра між зовнішніми трикутниками.\n",
    "A4.add_edge(10, 4)\n",
    "A4.add_edge(5, 7)\n",
    "\n",
    "print(\"Група автоморфізмів графа A4 ізоморфна:\", A4.automorphism_group().structure_description(), A4.automorphism_group().is_isomorphic(AlternatingGroup(4)))\n",
    "\n",
    "A5 = graphs.CycleGraph(10)\n",
    "A5.add_edges([(1, 10), (3, 10), (5, 10), (7, 10), (9, 10)])\n",
    "A5.add_edges([(0, 11), (8, 11), (8, 12), (6, 12), (6, 13), (4, 13), (4, 14), (2, 14), (2, 15), (0, 15)])\n",
    "A5.add_edges([(0, 13), (2, 12), (4, 11), (6, 15), (8, 14)])\n",
    "A5.automorphism_group().structure_description()\n",
    "print(\"Група автоморфізмів графа A5 ізоморфна:\", A5.automorphism_group().structure_description(), A5.automorphism_group().is_isomorphic(AlternatingGroup(5)))\n",
    "\n"
   ]
  },
  {
   "cell_type": "markdown",
   "id": "fb875714-0bd6-415d-be3e-bf77eb05541f",
   "metadata": {},
   "source": [
    "## Завдання 5\n",
    "\n",
    "Побудуйте простий граф, в якого група автоморфізмів тривіальна. "
   ]
  },
  {
   "cell_type": "code",
   "execution_count": 553,
   "id": "e948acd4-69da-4467-a135-dc4f92c99d20",
   "metadata": {},
   "outputs": [
    {
     "name": "stdout",
     "output_type": "stream",
     "text": [
      "Permutation Group with generators [()]\n"
     ]
    },
    {
     "data": {
      "image/png": "[encoded data removed]",
      "text/plain": [
       "Graphics object consisting of 31 graphics primitives"
      ]
     },
     "execution_count": 553,
     "metadata": {},
     "output_type": "execute_result"
    }
   ],
   "source": [
    "G = graphs.FruchtGraph()\n",
    "\n",
    "print(G.automorphism_group())\n",
    "G.plot()"
   ]
  },
  {
   "cell_type": "markdown",
   "id": "6ceca097-39c6-4eaf-8fba-2d951f9a53c5",
   "metadata": {},
   "source": [
    "## Завдання 6\n",
    "\n",
    "1. Побудуйте граф, як показано в коді нижче, і знайдіть його групу автоморфізмів. Розгляньте цю групу і її дію на граф. Покажіть орбіти цієї групової дії та зробіть висновки. \n",
    "2. Знайдіть стабілізатор довільної вершини та розгляньте його як групу з дією на весь граф. Знайдіть орбіти цієї нової групової дії. Зробіть висновки в термінах графа.\n",
    "\n",
    "_Підказка_: намалюйте граф як планарний за допомогою `.plot(layout='planar')` для кращої наочності."
   ]
  },
  {
   "cell_type": "code",
   "execution_count": 604,
   "id": "2bb521fd-8570-41ec-ad71-07bddd38b02b",
   "metadata": {},
   "outputs": [
    {
     "name": "stdout",
     "output_type": "stream",
     "text": [
      "Orbits of automorphisms:  ((0, 3, 4, 7), (1, 2, 5, 6))\n"
     ]
    },
    {
     "data": {
      "text/plain": [
       "Subgroup generated by [(5,6), (1,2)] of (Permutation Group with generators [(5,6), (1,2), (0,3)(4,7), (0,4)(1,5)(2,6)(3,7)])"
      ]
     },
     "execution_count": 604,
     "metadata": {},
     "output_type": "execute_result"
    }
   ],
   "source": [
    "G = graphs.CycleGraph(8)\n",
    "G.add_edges([(0, 2), (1, 3), (4, 6), (5, 7)])\n",
    "G.plot(layout='planar')\n",
    "AutG = G.automorphism_group()\n",
    "print(\"Orbits of automorphisms: \", AutG.orbits()) #Група має дві орбіти, тобто автоморфізм може перевести 1 вершину лише в три інші. \n",
    "\n",
    "Stab_G = AutG.stabilizer(0)\n",
    "\n",
    "Stab_G #Початкова група автоморфізмів має чотири твірних елементи, два з яких переставляють вершину 0. Очікувано, стабілізатор вершини 0\n",
    "        # породжується лише тими перестановками, що не задіюють цю точку. Граф краще виглядає, якщо задавати його через layout='circular'.\n",
    "        # Видно, що нуль стабілізується лише тими перетвореннями графа, що змінюють місцями точки 5, 6, 1, 2 (або ніякі). Ці 4 точки належать\n",
    "        # одній орбіті. В іншій вже знаходиться сам 0. У клітинці нижче виведені морфізми цих точок (1, 2, 5, 6)."
   ]
  },
  {
   "cell_type": "code",
   "execution_count": 577,
   "id": "85865dc0-97b3-437f-9e2a-e6a3cb51d6d4",
   "metadata": {},
   "outputs": [
    {
     "data": {
      "image/png": "[encoded data removed]",
      "text/plain": [
       "Graphics object consisting of 21 graphics primitives"
      ]
     },
     "execution_count": 577,
     "metadata": {},
     "output_type": "execute_result"
    }
   ],
   "source": [
    "G.plot()"
   ]
  },
  {
   "cell_type": "code",
   "execution_count": 592,
   "id": "cf9d69c3-3a1c-4f27-a75e-7d27133e1f60",
   "metadata": {},
   "outputs": [
    {
     "name": "stdout",
     "output_type": "stream",
     "text": [
      "Automorphism:\n",
      "  Vertex 1 -> 1\n",
      "  Vertex 2 -> 2\n",
      "  Vertex 5 -> 5\n",
      "  Vertex 6 -> 6\n",
      "Automorphism:\n",
      "  Vertex 1 -> 1\n",
      "  Vertex 2 -> 2\n",
      "  Vertex 5 -> 6\n",
      "  Vertex 6 -> 5\n",
      "Automorphism:\n",
      "  Vertex 1 -> 2\n",
      "  Vertex 2 -> 1\n",
      "  Vertex 5 -> 5\n",
      "  Vertex 6 -> 6\n",
      "Automorphism:\n",
      "  Vertex 1 -> 2\n",
      "  Vertex 2 -> 1\n",
      "  Vertex 5 -> 6\n",
      "  Vertex 6 -> 5\n"
     ]
    }
   ],
   "source": [
    "for phi in Stab_G:\n",
    "    print(f\"Automorphism:\")\n",
    "    for v in [1, 2, 5, 6]:\n",
    "        print(f\"  Vertex {v} -> {phi(v)}\")\n",
    "\n",
    "\n",
    "\n",
    "# for phi in stab_G:\n",
    "#     print(phi)\n",
    "    # print(\"\\nAutomorphism:\")\n",
    "\n",
    "    # for v in G.vertices():\n",
    "    #     print(f\"  Vertex {v} -> {phi(v)}\")\n",
    "\n",
    "    # new_labels = {v: phi(v) for v in G.vertices()}\n",
    "    # G_permuted = G.relabel(new_labels, inplace=False)\n",
    "    \n",
    "    # G_permuted.show()\n",
    "\n",
    "# transform1 = stab_G[1]\n",
    "# print(transform1(G.vertices()[6]))"
   ]
  },
  {
   "cell_type": "code",
   "execution_count": null,
   "id": "907d85e0-717f-4577-9ad9-1ba115704a24",
   "metadata": {},
   "outputs": [],
   "source": []
  }
 ],
 "metadata": {
  "kernelspec": {
   "display_name": "SageMath 10.4",
   "language": "sage",
   "name": "sagemath-10.4"
  },
  "language_info": {
   "codemirror_mode": {
    "name": "ipython",
    "version": 3
   },
   "file_extension": ".py",
   "mimetype": "text/x-python",
   "name": "python",
   "nbconvert_exporter": "python",
   "pygments_lexer": "ipython3",
   "version": "3.12.4"
  }
 },
 "nbformat": 4,
 "nbformat_minor": 5
}
